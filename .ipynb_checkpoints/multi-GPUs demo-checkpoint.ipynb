{
 "cells": [
  {
   "cell_type": "markdown",
   "metadata": {},
   "source": [
    "## 多个GPU一起训练demo"
   ]
  },
  {
   "cell_type": "code",
   "execution_count": null,
   "metadata": {
    "scrolled": false
   },
   "outputs": [
    {
     "name": "stderr",
     "output_type": "stream",
     "text": [
      "/home/multiphase/anaconda3/lib/python3.6/site-packages/h5py/__init__.py:36: FutureWarning: Conversion of the second argument of issubdtype from `float` to `np.floating` is deprecated. In future, it will be treated as `np.float64 == np.dtype(float).type`.\n",
      "  from ._conv import register_converters as _register_converters\n"
     ]
    },
    {
     "name": "stdout",
     "output_type": "stream",
     "text": [
      "WARNING:tensorflow:From /home/multiphase/yyy/GPU-Test/GPUs_train.py:26: string_input_producer (from tensorflow.python.training.input) is deprecated and will be removed in a future version.\n",
      "Instructions for updating:\n",
      "Queue-based input pipelines have been replaced by `tf.data`. Use `tf.data.Dataset.from_tensor_slices(string_tensor).shuffle(tf.shape(input_tensor, out_type=tf.int64)[0]).repeat(num_epochs)`. If `shuffle=False`, omit the `.shuffle(...)`.\n",
      "WARNING:tensorflow:From /home/multiphase/anaconda3/lib/python3.6/site-packages/tensorflow/python/training/input.py:276: input_producer (from tensorflow.python.training.input) is deprecated and will be removed in a future version.\n",
      "Instructions for updating:\n",
      "Queue-based input pipelines have been replaced by `tf.data`. Use `tf.data.Dataset.from_tensor_slices(input_tensor).shuffle(tf.shape(input_tensor, out_type=tf.int64)[0]).repeat(num_epochs)`. If `shuffle=False`, omit the `.shuffle(...)`.\n",
      "WARNING:tensorflow:From /home/multiphase/anaconda3/lib/python3.6/site-packages/tensorflow/python/training/input.py:188: limit_epochs (from tensorflow.python.training.input) is deprecated and will be removed in a future version.\n",
      "Instructions for updating:\n",
      "Queue-based input pipelines have been replaced by `tf.data`. Use `tf.data.Dataset.from_tensors(tensor).repeat(num_epochs)`.\n",
      "WARNING:tensorflow:From /home/multiphase/anaconda3/lib/python3.6/site-packages/tensorflow/python/training/input.py:197: QueueRunner.__init__ (from tensorflow.python.training.queue_runner_impl) is deprecated and will be removed in a future version.\n",
      "Instructions for updating:\n",
      "To construct input pipelines, use the `tf.data` module.\n",
      "WARNING:tensorflow:From /home/multiphase/anaconda3/lib/python3.6/site-packages/tensorflow/python/training/input.py:197: add_queue_runner (from tensorflow.python.training.queue_runner_impl) is deprecated and will be removed in a future version.\n",
      "Instructions for updating:\n",
      "To construct input pipelines, use the `tf.data` module.\n",
      "WARNING:tensorflow:From /home/multiphase/yyy/GPU-Test/GPUs_train.py:27: TFRecordReader.__init__ (from tensorflow.python.ops.io_ops) is deprecated and will be removed in a future version.\n",
      "Instructions for updating:\n",
      "Queue-based input pipelines have been replaced by `tf.data`. Use `tf.data.TFRecordDataset`.\n",
      "WARNING:tensorflow:From /home/multiphase/yyy/GPU-Test/GPUs_train.py:47: shuffle_batch (from tensorflow.python.training.input) is deprecated and will be removed in a future version.\n",
      "Instructions for updating:\n",
      "Queue-based input pipelines have been replaced by `tf.data`. Use `tf.data.Dataset.shuffle(min_after_dequeue).batch(batch_size)`.\n",
      "WARNING:tensorflow:From /home/multiphase/yyy/GPU-Test/GPUs_train.py:122: all_variables (from tensorflow.python.ops.variables) is deprecated and will be removed after 2017-03-02.\n",
      "Instructions for updating:\n",
      "Please use tf.global_variables instead.\n",
      "WARNING:tensorflow:From /home/multiphase/anaconda3/lib/python3.6/site-packages/tensorflow/python/util/tf_should_use.py:189: initialize_all_variables (from tensorflow.python.ops.variables) is deprecated and will be removed after 2017-03-02.\n",
      "Instructions for updating:\n",
      "Use `tf.global_variables_initializer` instead.\n",
      "WARNING:tensorflow:From /home/multiphase/yyy/GPU-Test/GPUs_train.py:129: start_queue_runners (from tensorflow.python.training.queue_runner_impl) is deprecated and will be removed in a future version.\n",
      "Instructions for updating:\n",
      "To construct input pipelines, use the `tf.data` module.\n",
      "2019-03-04 11:04:20.264035: step 200, loss = 11.56 (9807.6 examples/sec; 0.010 sec/batch)\n",
      "2019-03-04 11:04:24.314605: step 400, loss = 4.30 (10194.6 examples/sec; 0.010 sec/batch)\n",
      "2019-03-04 11:04:28.321586: step 600, loss = 1.18 (9689.7 examples/sec; 0.010 sec/batch)\n",
      "2019-03-04 11:04:32.780266: step 800, loss = 3.67 (9970.7 examples/sec; 0.010 sec/batch)\n",
      "2019-03-04 11:04:37.238768: step 1000, loss = 1.31 (10010.4 examples/sec; 0.010 sec/batch)\n",
      "2019-03-04 11:04:41.459572: step 1200, loss = 3.60 (9596.9 examples/sec; 0.010 sec/batch)\n",
      "2019-03-04 11:04:45.635417: step 1400, loss = 0.66 (10076.9 examples/sec; 0.010 sec/batch)\n",
      "2019-03-04 11:04:49.709734: step 1600, loss = 0.97 (10708.4 examples/sec; 0.009 sec/batch)\n",
      "2019-03-04 11:04:53.658397: step 1800, loss = 0.72 (9537.0 examples/sec; 0.010 sec/batch)\n",
      "2019-03-04 11:04:57.731352: step 2000, loss = 1.02 (9143.4 examples/sec; 0.011 sec/batch)\n",
      "2019-03-04 11:05:01.682176: step 2200, loss = 0.24 (8850.9 examples/sec; 0.011 sec/batch)\n",
      "2019-03-04 11:05:05.753256: step 2400, loss = 0.70 (9854.7 examples/sec; 0.010 sec/batch)\n",
      "2019-03-04 11:05:09.772918: step 2600, loss = 0.27 (9258.2 examples/sec; 0.011 sec/batch)\n",
      "2019-03-04 11:05:13.823954: step 2800, loss = 0.27 (10493.8 examples/sec; 0.010 sec/batch)\n",
      "2019-03-04 11:05:17.688477: step 3000, loss = 0.35 (9054.7 examples/sec; 0.011 sec/batch)\n",
      "2019-03-04 11:05:21.717993: step 3200, loss = 0.74 (9731.8 examples/sec; 0.010 sec/batch)\n",
      "2019-03-04 11:05:25.580095: step 3400, loss = 0.17 (10176.0 examples/sec; 0.010 sec/batch)\n",
      "2019-03-04 11:05:29.559940: step 3600, loss = 0.28 (10775.3 examples/sec; 0.009 sec/batch)\n",
      "2019-03-04 11:05:33.333688: step 3800, loss = 0.37 (10869.7 examples/sec; 0.009 sec/batch)\n",
      "2019-03-04 11:05:37.186524: step 4000, loss = 0.33 (10522.6 examples/sec; 0.010 sec/batch)\n"
     ]
    }
   ],
   "source": [
    "%run GPUs_train.py"
   ]
  }
 ],
 "metadata": {
  "kernelspec": {
   "display_name": "Python 3",
   "language": "python",
   "name": "python3"
  },
  "language_info": {
   "codemirror_mode": {
    "name": "ipython",
    "version": 3
   },
   "file_extension": ".py",
   "mimetype": "text/x-python",
   "name": "python",
   "nbconvert_exporter": "python",
   "pygments_lexer": "ipython3",
   "version": "3.6.8"
  }
 },
 "nbformat": 4,
 "nbformat_minor": 2
}
